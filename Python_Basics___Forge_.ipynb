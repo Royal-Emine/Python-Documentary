{
  "nbformat": 4,
  "nbformat_minor": 0,
  "metadata": {
    "colab": {
      "provenance": [],
      "collapsed_sections": [
        "bApBkmrYoijm",
        "tEJy72vxqBov",
        "kowen3cMqKH9"
      ]
    },
    "kernelspec": {
      "name": "python3",
      "display_name": "Python 3"
    },
    "language_info": {
      "name": "python"
    }
  },
  "cells": [
    {
      "cell_type": "markdown",
      "source": [
        "#**Python** is a popular programming language."
      ],
      "metadata": {
        "id": "AEjbPzFgT4v4"
      }
    },
    {
      "cell_type": "markdown",
      "source": [
        "#What is Python?\n",
        ">Python is a popular programming language. It was created by Guido van Rossum, and released in 1991.\n",
        "\n",
        "##It is used for:\n",
        "\n",
        "> web development (server-side),\n",
        "software development,\n",
        "mathematics,\n",
        "system scripting.\n",
        "##What can Python do?\n",
        ">Python can be used on a server to create web applications.\n",
        "Python can be used alongside software to create workflows.\n",
        "Python can connect to database systems. It can also read and modify files.\n",
        "Python can be used to handle big data and perform complex mathematics.\n",
        "Python can be used for rapid prototyping, or for production-ready software development.\n",
        "##Why Python?\n",
        ">Python works on different platforms (Windows, Mac, Linux, Raspberry Pi, etc).\n",
        "\n",
        ">Python has a simple syntax similar to the English language.\n",
        "\n",
        ">Python has syntax that allows developers to write programs with fewer lines than some other programming languages.\n",
        "\n",
        ">Python runs on an interpreter system, meaning that code can be executed as soon as it is written. This means that prototyping can be very quick.\n",
        "\n",
        ">Python can be treated in a procedural way, an object-oriented way or a functional way.\n",
        "##Good to know\n",
        ">The most recent major version of Python is Python 3, which we shall be using in this tutorial. However, Python 2, although not being updated with anything other than security updates, is still quite popular.\n",
        "\n",
        ">It is possible to write Python in an Integrated Development Environment, such as Thonny, Pycharm, Netbeans or Eclipse which are particularly useful when managing larger collections of Python files.\n",
        "##Python Syntax compared to other programming languages\n",
        ">Python was designed for readability, and has some similarities to the English language with influence from mathematics.\n",
        "\n",
        ">Python uses new lines to complete a command, as opposed to other programming languages which often use semicolons or parentheses.\n",
        "\n",
        ">Python relies on indentation, using whitespace, to define scope; such as the scope of loops, functions and classes. Other programming languages often use curly-brackets for this purpose."
      ],
      "metadata": {
        "id": "oHTIM7PTr9TE"
      }
    },
    {
      "cell_type": "code",
      "execution_count": null,
      "metadata": {
        "id": "V3dhXqSITw1I",
        "colab": {
          "base_uri": "https://localhost:8080/"
        },
        "outputId": "9a1b07f9-2482-4f5f-d5a7-75529f089ac7"
      },
      "outputs": [
        {
          "output_type": "stream",
          "name": "stdout",
          "text": [
            "Hello, World!\n"
          ]
        }
      ],
      "source": [
        "print(\"Hello, World!\")"
      ]
    },
    {
      "cell_type": "markdown",
      "source": [
        "#Python Indentation\n",
        ">Indentation refers to the spaces at the beginning of a code line.\n",
        "\n",
        ">Where in other programming languages the indentation in code is for readability only, the indentation in Python is very important.\n",
        "\n",
        ">Python uses indentation to indicate a block of code."
      ],
      "metadata": {
        "id": "WHjiNFA2sHE2"
      }
    },
    {
      "cell_type": "code",
      "source": [
        "if 5 > 2:\n",
        "  print(\"Five is greater than two!\")"
      ],
      "metadata": {
        "colab": {
          "base_uri": "https://localhost:8080/"
        },
        "id": "mk8RwIAvsOup",
        "outputId": "43867185-046f-4476-c713-df3986a0cd02"
      },
      "execution_count": null,
      "outputs": [
        {
          "output_type": "stream",
          "name": "stdout",
          "text": [
            "Five is greater than two!\n"
          ]
        }
      ]
    },
    {
      "cell_type": "markdown",
      "source": [
        "Python will give you an error if you skip the indentation:"
      ],
      "metadata": {
        "id": "HCtg7T2MsSJg"
      }
    },
    {
      "cell_type": "code",
      "source": [
        "# @title\n",
        "if 5 > 2:\n",
        "print(\"Five is greater than two!\")"
      ],
      "metadata": {
        "colab": {
          "base_uri": "https://localhost:8080/",
          "height": 140
        },
        "id": "aXLa5LxAsW8o",
        "outputId": "ca53fbc1-c488-4503-9e1f-3684b7d9a951"
      },
      "execution_count": null,
      "outputs": [
        {
          "output_type": "error",
          "ename": "IndentationError",
          "evalue": "ignored",
          "traceback": [
            "\u001b[0;36m  File \u001b[0;32m\"<ipython-input-71-9e48a60c50d8>\"\u001b[0;36m, line \u001b[0;32m3\u001b[0m\n\u001b[0;31m    print(\"Five is greater than two!\")\u001b[0m\n\u001b[0m    ^\u001b[0m\n\u001b[0;31mIndentationError\u001b[0m\u001b[0;31m:\u001b[0m expected an indented block after 'if' statement on line 2\n"
          ]
        }
      ]
    },
    {
      "cell_type": "markdown",
      "source": [
        "The number of spaces is up to you as a programmer, the most common use is four, but it has to be at least one."
      ],
      "metadata": {
        "id": "ratohp5ksahB"
      }
    },
    {
      "cell_type": "code",
      "source": [
        "if 5 > 2:\n",
        " print(\"Five is greater than two!\")\n",
        "if 5 > 2:\n",
        "        print(\"Five is greater than two!\")"
      ],
      "metadata": {
        "colab": {
          "base_uri": "https://localhost:8080/"
        },
        "id": "VYi_CLjzsb9y",
        "outputId": "477860c0-ed25-4d32-e79d-d256248ffbd2"
      },
      "execution_count": null,
      "outputs": [
        {
          "output_type": "stream",
          "name": "stdout",
          "text": [
            "Five is greater than two!\n",
            "Five is greater than two!\n"
          ]
        }
      ]
    },
    {
      "cell_type": "markdown",
      "source": [
        "You have to use the same number of spaces in the same block of code, otherwise Python will give you an error:"
      ],
      "metadata": {
        "id": "p6AhxLGtsdFi"
      }
    },
    {
      "cell_type": "code",
      "source": [
        "if 5 > 2:\n",
        " print(\"Five is greater than two!\")\n",
        "        print(\"Five is greater than two!\")"
      ],
      "metadata": {
        "colab": {
          "base_uri": "https://localhost:8080/",
          "height": 140
        },
        "id": "zBLXjozxsei6",
        "outputId": "4b420653-ed8c-4035-f5cc-9d776ec17f1d"
      },
      "execution_count": null,
      "outputs": [
        {
          "output_type": "error",
          "ename": "IndentationError",
          "evalue": "ignored",
          "traceback": [
            "\u001b[0;36m  File \u001b[0;32m\"<ipython-input-73-a4dba24e2a47>\"\u001b[0;36m, line \u001b[0;32m3\u001b[0m\n\u001b[0;31m    print(\"Five is greater than two!\")\u001b[0m\n\u001b[0m    ^\u001b[0m\n\u001b[0;31mIndentationError\u001b[0m\u001b[0;31m:\u001b[0m unexpected indent\n"
          ]
        }
      ]
    },
    {
      "cell_type": "markdown",
      "source": [
        "#Python Comments\n",
        ">Comments can be used to explain Python code.\n",
        "\n",
        ">Comments can be used to make the code more readable.\n",
        "\n",
        ">Comments can be used to prevent execution when testing code."
      ],
      "metadata": {
        "id": "b5K8DzHEsg9K"
      }
    },
    {
      "cell_type": "markdown",
      "source": [
        "##Creating a Comment\n",
        "Comments starts with a #, and Python will ignore them:"
      ],
      "metadata": {
        "id": "MuOc0xFysisC"
      }
    },
    {
      "cell_type": "code",
      "source": [
        "#This is a comment\n",
        "print(\"Hello, World!\")"
      ],
      "metadata": {
        "colab": {
          "base_uri": "https://localhost:8080/"
        },
        "id": "Wl1JAZICskCr",
        "outputId": "0c360dec-403a-44e8-9064-72267f1d4db1"
      },
      "execution_count": null,
      "outputs": [
        {
          "output_type": "stream",
          "name": "stdout",
          "text": [
            "Hello, World!\n"
          ]
        }
      ]
    },
    {
      "cell_type": "markdown",
      "source": [
        "Comments can be placed at the end of a line, and Python will ignore the rest of the line:"
      ],
      "metadata": {
        "id": "amNoaNycslbz"
      }
    },
    {
      "cell_type": "code",
      "source": [
        "print(\"Hello, World!\") #This is a comment"
      ],
      "metadata": {
        "colab": {
          "base_uri": "https://localhost:8080/"
        },
        "id": "0K90zdGtsmgi",
        "outputId": "c1b2eba1-c819-468e-ada0-44de5f8f1add"
      },
      "execution_count": null,
      "outputs": [
        {
          "output_type": "stream",
          "name": "stdout",
          "text": [
            "Hello, World!\n"
          ]
        }
      ]
    },
    {
      "cell_type": "markdown",
      "source": [
        "A comment does not have to be text that explains the code, it can also be used to prevent Python from executing code:"
      ],
      "metadata": {
        "id": "CoFy0jU9snv8"
      }
    },
    {
      "cell_type": "code",
      "source": [
        "#print(\"Hello, World!\")\n",
        "print(\"Cheers, Mate!\")"
      ],
      "metadata": {
        "colab": {
          "base_uri": "https://localhost:8080/"
        },
        "id": "wLqWvyfUso5i",
        "outputId": "4def5767-ca9a-44dc-b5bb-f73f90b21870"
      },
      "execution_count": null,
      "outputs": [
        {
          "output_type": "stream",
          "name": "stdout",
          "text": [
            "Cheers, Mate!\n"
          ]
        }
      ]
    },
    {
      "cell_type": "markdown",
      "source": [
        "## Multiline Comments\n",
        "Python does not really have a syntax for multiline comments.\n",
        "\n",
        "To add a multiline comment you could insert a # for each line:"
      ],
      "metadata": {
        "id": "7h3F4Pjisrau"
      }
    },
    {
      "cell_type": "code",
      "source": [
        "#This is a comment\n",
        "#written in\n",
        "#more than just one line\n",
        "print(\"Hello, World!\")"
      ],
      "metadata": {
        "colab": {
          "base_uri": "https://localhost:8080/"
        },
        "id": "e2IB0BR3stld",
        "outputId": "5c1fb431-75c3-4b83-bb86-4d746238c9f3"
      },
      "execution_count": null,
      "outputs": [
        {
          "output_type": "stream",
          "name": "stdout",
          "text": [
            "Hello, World!\n"
          ]
        }
      ]
    },
    {
      "cell_type": "markdown",
      "source": [
        "Or, not quite as intended, you can use a multiline string.\n",
        "\n",
        "Since Python will ignore string literals that are not assigned to a variable, you can add a multiline string (triple quotes) in your code, and place your comment inside it:"
      ],
      "metadata": {
        "id": "U15LLCJpsvmx"
      }
    },
    {
      "cell_type": "code",
      "source": [
        "\"\"\"\n",
        "This is a comment\n",
        "written in\n",
        "more than just one line\n",
        "\"\"\"\n",
        "print(\"Hello, World!\")"
      ],
      "metadata": {
        "colab": {
          "base_uri": "https://localhost:8080/"
        },
        "id": "jrded0P3sxGt",
        "outputId": "7febc513-f827-49d0-b3de-10f902368be7"
      },
      "execution_count": null,
      "outputs": [
        {
          "output_type": "stream",
          "name": "stdout",
          "text": [
            "Hello, World!\n"
          ]
        }
      ]
    },
    {
      "cell_type": "markdown",
      "source": [
        "As long as the string is not assigned to a variable, Python will read the code, but then ignore it, and you have made a multiline comment."
      ],
      "metadata": {
        "id": "EfUxJNISsyoy"
      }
    },
    {
      "cell_type": "markdown",
      "source": [
        "# Python Variables\n",
        "##Variables\n",
        "Variables are containers for storing data values.\n",
        "\n",
        "##Creating Variables\n",
        "Python has no command for declaring a variable.\n",
        "\n",
        "A variable is created the moment you first assign a value to it."
      ],
      "metadata": {
        "id": "x1Q3WpaeZ-uK"
      }
    },
    {
      "cell_type": "code",
      "source": [
        "x = 5\n",
        "y = \"John\"\n",
        "print(x)\n",
        "print(y)"
      ],
      "metadata": {
        "id": "6DFaxvgHaFjx",
        "colab": {
          "base_uri": "https://localhost:8080/"
        },
        "outputId": "3f94477e-c8e1-4e30-e105-75900fb0bc85"
      },
      "execution_count": null,
      "outputs": [
        {
          "output_type": "stream",
          "name": "stdout",
          "text": [
            "5\n",
            "John\n"
          ]
        }
      ]
    },
    {
      "cell_type": "markdown",
      "source": [
        "Variables do not need to be declared with any particular type, and can even change type after they have been set."
      ],
      "metadata": {
        "id": "o8t3rDgraKKb"
      }
    },
    {
      "cell_type": "code",
      "source": [
        "x = 4       # x is of type int\n",
        "x = \"Sally\" # x is now of type str\n",
        "print(x)"
      ],
      "metadata": {
        "id": "3bn4hmJ4aM3K",
        "colab": {
          "base_uri": "https://localhost:8080/"
        },
        "outputId": "d139d47e-b61b-4f35-8c81-2ad3ff003cc9"
      },
      "execution_count": null,
      "outputs": [
        {
          "output_type": "stream",
          "name": "stdout",
          "text": [
            "Sally\n"
          ]
        }
      ]
    },
    {
      "cell_type": "markdown",
      "source": [
        "#Casting\n",
        "If you want to specify the data type of a variable, this can be done with casting."
      ],
      "metadata": {
        "id": "1j2MHjqaaQ_b"
      }
    },
    {
      "cell_type": "code",
      "source": [
        "x = str(3)    # x will be '3'\n",
        "y = int(3)    # y will be 3\n",
        "z = float(3)  # z will be 3.0"
      ],
      "metadata": {
        "id": "kUPWXO4gaUvC"
      },
      "execution_count": null,
      "outputs": []
    },
    {
      "cell_type": "markdown",
      "source": [
        "#Get the Type\n",
        "You can get the data type of a variable with the type() function."
      ],
      "metadata": {
        "id": "YK6-GuGhaWx0"
      }
    },
    {
      "cell_type": "code",
      "source": [
        "x = 5\n",
        "y = \"John\"\n",
        "print(type(x))\n",
        "print(type(y))"
      ],
      "metadata": {
        "id": "kbc-TdwGaZzC",
        "colab": {
          "base_uri": "https://localhost:8080/"
        },
        "outputId": "d413787c-267f-4ade-b6d4-25fa839326c7"
      },
      "execution_count": null,
      "outputs": [
        {
          "output_type": "stream",
          "name": "stdout",
          "text": [
            "<class 'int'>\n",
            "<class 'str'>\n"
          ]
        }
      ]
    },
    {
      "cell_type": "markdown",
      "source": [
        "#Single or Double Quotes?\n",
        "String variables can be declared either by using single or double quotes:"
      ],
      "metadata": {
        "id": "6MBkCmuKacRV"
      }
    },
    {
      "cell_type": "code",
      "source": [
        "x = \"John\"\n",
        "# is the same as\n",
        "x = 'John'"
      ],
      "metadata": {
        "id": "5BcAhzr2af-8"
      },
      "execution_count": null,
      "outputs": []
    },
    {
      "cell_type": "markdown",
      "source": [
        "## Case-Sensitive\n",
        "Variable names are case-sensitive."
      ],
      "metadata": {
        "id": "UJz9rys2ahtO"
      }
    },
    {
      "cell_type": "code",
      "source": [
        "#This will create two variables:\n",
        "\n",
        "a = 4\n",
        "A = \"Sally\"\n",
        "\n",
        "#A will not overwrite a"
      ],
      "metadata": {
        "id": "g84CodeVal8a"
      },
      "execution_count": null,
      "outputs": []
    },
    {
      "cell_type": "markdown",
      "source": [
        "#Variable Names\n",
        "A variable can have a short name (like x and y) or a more descriptive name (age, carname, total_volume). Rules for Python variables:\n",
        "\n",
        ">A variable name must start with a letter or the underscore character\n",
        "\n",
        ">A variable name cannot start with a number\n",
        "\n",
        ">A variable name can only contain alpha-numeric characters and underscores (A-z, 0-9, and _ )\n",
        "\n",
        "Variable names are case-sensitive (age, Age and AGE are three different variables)\n",
        "\n",
        ">A variable name cannot be any of the Python keywords."
      ],
      "metadata": {
        "id": "J_909afVarNK"
      }
    },
    {
      "cell_type": "code",
      "source": [
        "# Legal variable names:\n",
        "\n",
        "myvar = \"John\"\n",
        "my_var = \"John\"\n",
        "_my_var = \"John\"\n",
        "myVar = \"John\"\n",
        "MYVAR = \"John\"\n",
        "myvar2 = \"John\""
      ],
      "metadata": {
        "id": "lmJOZcw9ay6a"
      },
      "execution_count": null,
      "outputs": []
    },
    {
      "cell_type": "code",
      "source": [
        "#Illegal variable names:\n",
        "\n",
        "2myvar = \"John\"\n",
        "my-var = \"John\"\n",
        "my var = \"John\""
      ],
      "metadata": {
        "id": "OjRcrhyQa5wU",
        "colab": {
          "base_uri": "https://localhost:8080/",
          "height": 140
        },
        "outputId": "b1f4ce43-5fa9-4fb3-ad28-76545697148d"
      },
      "execution_count": null,
      "outputs": [
        {
          "output_type": "error",
          "ename": "SyntaxError",
          "evalue": "ignored",
          "traceback": [
            "\u001b[0;36m  File \u001b[0;32m\"<ipython-input-74-505d442e4979>\"\u001b[0;36m, line \u001b[0;32m3\u001b[0m\n\u001b[0;31m    2myvar = \"John\"\u001b[0m\n\u001b[0m    ^\u001b[0m\n\u001b[0;31mSyntaxError\u001b[0m\u001b[0;31m:\u001b[0m invalid decimal literal\n"
          ]
        }
      ]
    },
    {
      "cell_type": "markdown",
      "source": [
        "#Multi Words Variable Names\n",
        "Variable names with more than one word can be difficult to read.\n",
        "\n",
        "There are several techniques you can use to make them more readable:\n",
        "\n",
        "##Camel Case\n",
        "Each word, except the first, starts with a capital letter:\n",
        "\n",
        "*myVariableName = \"John\"*\n",
        "##Pascal Case\n",
        "Each word starts with a capital letter:\n",
        "\n",
        "*MyVariableName = \"John\"*\n",
        "##Snake Case\n",
        "Each word is separated by an underscore character:\n",
        "\n",
        "*my_variable_name = \"John\"*"
      ],
      "metadata": {
        "id": "3FElNxU7bCVC"
      }
    },
    {
      "cell_type": "code",
      "source": [
        "myVariableName = \"John\" # Camel Case\n",
        "MyVariableName = \"John\" #Pascal Case\n",
        "my_variable_name = \"John\" #Snake Case"
      ],
      "metadata": {
        "id": "FDO5SyWnbJ7M"
      },
      "execution_count": null,
      "outputs": []
    },
    {
      "cell_type": "markdown",
      "source": [
        "#Python Variables - Assign Multiple Values\n",
        "##Many Values to Multiple Variables\n",
        "\n",
        "Python allows you to assign values to multiple variables in one line:"
      ],
      "metadata": {
        "id": "2B9GBFqubaXE"
      }
    },
    {
      "cell_type": "code",
      "source": [
        "x, y, z = \"Orange\", \"Banana\", \"Cherry\"\n",
        "print(x)\n",
        "print(y)\n",
        "print(z)"
      ],
      "metadata": {
        "id": "UmYdc4EFbhJL",
        "colab": {
          "base_uri": "https://localhost:8080/"
        },
        "outputId": "0189bbc2-882b-4b4a-edfe-5fe0aae2b9fd"
      },
      "execution_count": null,
      "outputs": [
        {
          "output_type": "stream",
          "name": "stdout",
          "text": [
            "Orange\n",
            "Banana\n",
            "Cherry\n"
          ]
        }
      ]
    },
    {
      "cell_type": "markdown",
      "source": [
        "##One Value to Multiple Variables\n",
        "And you can assign the same value to multiple variables in one line"
      ],
      "metadata": {
        "id": "Cf6Aj2fzbjLE"
      }
    },
    {
      "cell_type": "code",
      "source": [
        "x = y = z = \"Orange\"\n",
        "print(x)\n",
        "print(y)\n",
        "print(z)"
      ],
      "metadata": {
        "id": "w2DrFUsTblji",
        "colab": {
          "base_uri": "https://localhost:8080/"
        },
        "outputId": "b6de08ae-c663-4e78-ebb5-d4a0c9c32824"
      },
      "execution_count": null,
      "outputs": [
        {
          "output_type": "stream",
          "name": "stdout",
          "text": [
            "Orange\n",
            "Orange\n",
            "Orange\n"
          ]
        }
      ]
    },
    {
      "cell_type": "markdown",
      "source": [
        "##Unpack a Collection\n",
        "If you have a collection of values in a list, tuple etc. Python allows you to extract the values into variables. This is called unpacking."
      ],
      "metadata": {
        "id": "ouHudrX9bnsK"
      }
    },
    {
      "cell_type": "code",
      "source": [
        "#Unpack a list:\n",
        "\n",
        "fruits = [\"apple\", \"banana\", \"cherry\"]\n",
        "x, y, z = fruits\n",
        "print(x)\n",
        "print(y)\n",
        "print(z)"
      ],
      "metadata": {
        "id": "GAOQ9qSIbqvb",
        "colab": {
          "base_uri": "https://localhost:8080/"
        },
        "outputId": "0897c06f-2c44-4071-febd-f12aaa29f421"
      },
      "execution_count": null,
      "outputs": [
        {
          "output_type": "stream",
          "name": "stdout",
          "text": [
            "apple\n",
            "banana\n",
            "cherry\n"
          ]
        }
      ]
    },
    {
      "cell_type": "markdown",
      "source": [
        "##Python - Output Variables\n",
        "##Output Variables\n",
        "The Python print() function is often used to output variables."
      ],
      "metadata": {
        "id": "HVPAe3EWbv0S"
      }
    },
    {
      "cell_type": "code",
      "source": [
        "x = \"Python is awesome\"\n",
        "print(x)"
      ],
      "metadata": {
        "id": "ufWEwn3xbzpz",
        "colab": {
          "base_uri": "https://localhost:8080/"
        },
        "outputId": "361cf1a7-5bc4-459b-d03e-34b68a1b046b"
      },
      "execution_count": null,
      "outputs": [
        {
          "output_type": "stream",
          "name": "stdout",
          "text": [
            "Python is awesome\n"
          ]
        }
      ]
    },
    {
      "cell_type": "markdown",
      "source": [
        "In the print() function, you output multiple variables, separated by a comma:"
      ],
      "metadata": {
        "id": "TKi_MU7vb2NL"
      }
    },
    {
      "cell_type": "code",
      "source": [
        "x = \"Python\"\n",
        "y = \"is\"\n",
        "z = \"awesome\"\n",
        "print(x, y, z)"
      ],
      "metadata": {
        "id": "aNN48RK1b3m2",
        "colab": {
          "base_uri": "https://localhost:8080/"
        },
        "outputId": "d501baa6-419f-4c80-a298-273592dcff90"
      },
      "execution_count": null,
      "outputs": [
        {
          "output_type": "stream",
          "name": "stdout",
          "text": [
            "Python is awesome\n"
          ]
        }
      ]
    },
    {
      "cell_type": "markdown",
      "source": [
        "You can also use the + operator to output multiple variables:"
      ],
      "metadata": {
        "id": "jZdwjSV4b5j6"
      }
    },
    {
      "cell_type": "code",
      "source": [
        "x = \"Python \"\n",
        "y = \"is \"\n",
        "z = \"awesome\"\n",
        "print(x + y + z)"
      ],
      "metadata": {
        "id": "6ON3jas-b66X",
        "colab": {
          "base_uri": "https://localhost:8080/"
        },
        "outputId": "4bf35797-5a3b-483e-8a4a-0ce477c43d70"
      },
      "execution_count": null,
      "outputs": [
        {
          "output_type": "stream",
          "name": "stdout",
          "text": [
            "Python is awesome\n"
          ]
        }
      ]
    },
    {
      "cell_type": "markdown",
      "source": [
        "Notice the space character after \"Python \" and \"is \", without them the result would be \"Pythonisawesome\".\n",
        "\n",
        "For numbers, the + character works as a mathematical operator:"
      ],
      "metadata": {
        "id": "LlKSQS5JcA9b"
      }
    },
    {
      "cell_type": "code",
      "source": [
        "x = 5\n",
        "y = 10\n",
        "print(x + y)"
      ],
      "metadata": {
        "id": "QojYpWxCcD2g",
        "colab": {
          "base_uri": "https://localhost:8080/"
        },
        "outputId": "14cb5861-2a8a-46a2-8b49-dd43eadd4917"
      },
      "execution_count": null,
      "outputs": [
        {
          "output_type": "stream",
          "name": "stdout",
          "text": [
            "15\n"
          ]
        }
      ]
    },
    {
      "cell_type": "markdown",
      "source": [
        "In the print() function, when you try to combine a string and a number with the + operator, Python will give you an error:"
      ],
      "metadata": {
        "id": "-VTHrBLCcFVz"
      }
    },
    {
      "cell_type": "code",
      "source": [
        "x = 5\n",
        "y = \"John\"\n",
        "print(x + y)"
      ],
      "metadata": {
        "id": "DMijTr52cHIE",
        "colab": {
          "base_uri": "https://localhost:8080/",
          "height": 210
        },
        "outputId": "b4514eca-0a9f-4c78-e740-69a00bd195b9"
      },
      "execution_count": null,
      "outputs": [
        {
          "output_type": "error",
          "ename": "TypeError",
          "evalue": "ignored",
          "traceback": [
            "\u001b[0;31m---------------------------------------------------------------------------\u001b[0m",
            "\u001b[0;31mTypeError\u001b[0m                                 Traceback (most recent call last)",
            "\u001b[0;32m<ipython-input-85-00c66e4310ff>\u001b[0m in \u001b[0;36m<cell line: 3>\u001b[0;34m()\u001b[0m\n\u001b[1;32m      1\u001b[0m \u001b[0mx\u001b[0m \u001b[0;34m=\u001b[0m \u001b[0;36m5\u001b[0m\u001b[0;34m\u001b[0m\u001b[0;34m\u001b[0m\u001b[0m\n\u001b[1;32m      2\u001b[0m \u001b[0my\u001b[0m \u001b[0;34m=\u001b[0m \u001b[0;34m\"John\"\u001b[0m\u001b[0;34m\u001b[0m\u001b[0;34m\u001b[0m\u001b[0m\n\u001b[0;32m----> 3\u001b[0;31m \u001b[0mprint\u001b[0m\u001b[0;34m(\u001b[0m\u001b[0mx\u001b[0m \u001b[0;34m+\u001b[0m \u001b[0my\u001b[0m\u001b[0;34m)\u001b[0m\u001b[0;34m\u001b[0m\u001b[0;34m\u001b[0m\u001b[0m\n\u001b[0m",
            "\u001b[0;31mTypeError\u001b[0m: unsupported operand type(s) for +: 'int' and 'str'"
          ]
        }
      ]
    },
    {
      "cell_type": "markdown",
      "source": [
        "The best way to output multiple variables in the print() function is to separate them with commas, which even support different data types:"
      ],
      "metadata": {
        "id": "Dmjv1jAqcI2j"
      }
    },
    {
      "cell_type": "code",
      "source": [
        "x = 5\n",
        "y = \"John\"\n",
        "print(x, y)"
      ],
      "metadata": {
        "id": "54svnb3ecKYr",
        "colab": {
          "base_uri": "https://localhost:8080/"
        },
        "outputId": "fee0806f-888b-492c-ce2f-06ed7e60abcc"
      },
      "execution_count": null,
      "outputs": [
        {
          "output_type": "stream",
          "name": "stdout",
          "text": [
            "5 John\n"
          ]
        }
      ]
    },
    {
      "cell_type": "markdown",
      "source": [
        "##Python - Global Variables\n",
        "##Global Variables\n",
        "Variables that are created outside of a function (as in all of the examples above) are known as global variables.\n",
        "\n",
        "Global variables can be used by everyone, both inside of functions and outside."
      ],
      "metadata": {
        "id": "x5pXbaW4cO1U"
      }
    },
    {
      "cell_type": "code",
      "source": [
        "#Create a variable outside of a function, and use it inside the function\n",
        "\n",
        "x = \"awesome\"\n",
        "\n",
        "def myfunc():\n",
        "  print(\"Python is \" + x)\n",
        "\n",
        "myfunc()"
      ],
      "metadata": {
        "id": "EOYOJcuicV8L",
        "colab": {
          "base_uri": "https://localhost:8080/"
        },
        "outputId": "98537435-a807-4791-d8fc-a8f37d6ef7c5"
      },
      "execution_count": null,
      "outputs": [
        {
          "output_type": "stream",
          "name": "stdout",
          "text": [
            "Python is awesome\n"
          ]
        }
      ]
    },
    {
      "cell_type": "markdown",
      "source": [
        "If you create a variable with the same name inside a function, this variable will be local, and can only be used inside the function. The global variable with the same name will remain as it was, global and with the original value."
      ],
      "metadata": {
        "id": "Jixg9aWkcZIj"
      }
    },
    {
      "cell_type": "code",
      "source": [
        "#Create a variable inside a function, with the same name as the global variable\n",
        "\n",
        "x = \"awesome\"\n",
        "\n",
        "def myfunc():\n",
        "  x = \"fantastic\"\n",
        "  print(\"Python is \" + x)\n",
        "\n",
        "myfunc()\n",
        "\n",
        "print(\"Python is \" + x)"
      ],
      "metadata": {
        "id": "EjU0Hmc7cbnr",
        "colab": {
          "base_uri": "https://localhost:8080/"
        },
        "outputId": "695f480a-59e1-4d1c-f5ee-d9e5a6e31e9e"
      },
      "execution_count": null,
      "outputs": [
        {
          "output_type": "stream",
          "name": "stdout",
          "text": [
            "Python is fantastic\n",
            "Python is awesome\n"
          ]
        }
      ]
    },
    {
      "cell_type": "markdown",
      "source": [
        "##The global Keyword\n",
        "Normally, when you create a variable inside a function, that variable is local, and can only be used inside that function.\n",
        "\n",
        "To create a global variable inside a function, you can use the global keyword."
      ],
      "metadata": {
        "id": "j5C7nPXpcegd"
      }
    },
    {
      "cell_type": "code",
      "source": [
        "#If you use the global keyword, the variable belongs to the global scope:\n",
        "\n",
        "def myfunc():\n",
        "  global x\n",
        "  x = \"fantastic\"\n",
        "\n",
        "myfunc()\n",
        "\n",
        "print(\"Python is \" + x)"
      ],
      "metadata": {
        "id": "y_ZfJzyPchSl",
        "colab": {
          "base_uri": "https://localhost:8080/"
        },
        "outputId": "033e9552-f9bc-47be-e2a1-83caf37003d1"
      },
      "execution_count": null,
      "outputs": [
        {
          "output_type": "stream",
          "name": "stdout",
          "text": [
            "Python is fantastic\n"
          ]
        }
      ]
    },
    {
      "cell_type": "markdown",
      "source": [
        "Also, use the global keyword if you want to change a global variable inside a function."
      ],
      "metadata": {
        "id": "xnLf4QswckqU"
      }
    },
    {
      "cell_type": "code",
      "source": [
        "#To change the value of a global variable inside a function, refer to the variable by using the global keyword:\n",
        "\n",
        "x = \"awesome\"\n",
        "\n",
        "def myfunc():\n",
        "  global x\n",
        "  x = \"fantastic\"\n",
        "\n",
        "myfunc()\n",
        "\n",
        "print(\"Python is \" + x)"
      ],
      "metadata": {
        "id": "838yPQ05cmbG",
        "colab": {
          "base_uri": "https://localhost:8080/"
        },
        "outputId": "f7e6d20d-f1e5-4edd-c9a2-8d7ae4e97624"
      },
      "execution_count": null,
      "outputs": [
        {
          "output_type": "stream",
          "name": "stdout",
          "text": [
            "Python is fantastic\n"
          ]
        }
      ]
    },
    {
      "cell_type": "markdown",
      "source": [
        "#Python Data Types\n",
        "##Built-in Data Types\n",
        ">In programming, data type is an important concept.\n",
        "\n",
        ">Variables can store data of different types, and different types can do different things.\n",
        "\n",
        "##Python has the following data types built-in by default, in these categories:\n",
        "\n",
        ">Text Type:\tstr\n",
        "\n",
        ">Numeric Types:\tint, float, complex\n",
        "\n",
        ">Sequence Types:\tlist, tuple, range\n",
        "\n",
        ">Mapping Type:\tdict\n",
        "\n",
        ">Set Types:\tset, frozenset\n",
        "\n",
        ">Boolean Type:\tbool\n",
        "\n",
        ">Binary Types:\tbytes, bytearray, memoryview\n",
        "\n",
        ">None Type:\tNoneType"
      ],
      "metadata": {
        "id": "F3KxLPeIcviH"
      }
    },
    {
      "cell_type": "code",
      "source": [
        "#You can get the data type of any object by using the type() function:\n",
        "#Print the data type of the variable x:\n",
        "\n",
        "x = 5\n",
        "print(type(x))"
      ],
      "metadata": {
        "id": "izTIUgilc7KV",
        "colab": {
          "base_uri": "https://localhost:8080/"
        },
        "outputId": "b9f1c25a-92da-4a39-c1aa-3305d304b811"
      },
      "execution_count": null,
      "outputs": [
        {
          "output_type": "stream",
          "name": "stdout",
          "text": [
            "<class 'int'>\n"
          ]
        }
      ]
    },
    {
      "cell_type": "code",
      "source": [
        "#Setting the Data Type\n",
        "#In Python, the data type is set when you assign a value to a variable:\n",
        "\n",
        "x = \"Hello World\"\t#str\n",
        "x = 20\t#int\n",
        "x = 20.5\t#float\n",
        "x = 1j\t#complex\n",
        "x = [\"apple\", \"banana\", \"cherry\"]\t#list\n",
        "x = (\"apple\", \"banana\", \"cherry\")\t#tuple\n",
        "x = range(6)\t#range\n",
        "x = {\"name\" : \"John\", \"age\" : 36}\t#dict\n",
        "x = {\"apple\", \"banana\", \"cherry\"}\t#set\n",
        "x = frozenset({\"apple\", \"banana\", \"cherry\"})\t#frozenset\n",
        "x = True\t#bool\n",
        "x = b\"Hello\"\t#bytes\n",
        "x = bytearray(5)\t#bytearray\n",
        "x = memoryview(bytes(5))\t#memoryview\n",
        "x = None\t#NoneType"
      ],
      "metadata": {
        "id": "Wz5fxEpmdExu"
      },
      "execution_count": null,
      "outputs": []
    },
    {
      "cell_type": "markdown",
      "source": [
        "#Python Numbers\n",
        "There are three numeric types in Python:\n",
        "\n",
        ">int\n",
        "\n",
        ">float\n",
        "\n",
        ">complex\n",
        "\n",
        "##Variables of numeric types are created when you assign a value to them:"
      ],
      "metadata": {
        "id": "DPo4743TdVyN"
      }
    },
    {
      "cell_type": "code",
      "source": [
        "x = 1    # int\n",
        "y = 2.8  # float\n",
        "z = 1j   # complex\n",
        "\n",
        "print(type(x))\n",
        "print(type(y))\n",
        "print(type(z))"
      ],
      "metadata": {
        "id": "RiWsKnYtdbrm",
        "colab": {
          "base_uri": "https://localhost:8080/"
        },
        "outputId": "7ec302bd-d7c5-498b-a8b6-386560c77d79"
      },
      "execution_count": null,
      "outputs": [
        {
          "output_type": "stream",
          "name": "stdout",
          "text": [
            "<class 'int'>\n",
            "<class 'float'>\n",
            "<class 'complex'>\n"
          ]
        }
      ]
    },
    {
      "cell_type": "markdown",
      "source": [
        "##Int\n",
        "Int, or integer, is a whole number, positive or negative, without decimals, of unlimited length."
      ],
      "metadata": {
        "id": "ibWxNGONdgcu"
      }
    },
    {
      "cell_type": "code",
      "source": [
        "#Integers:\n",
        "\n",
        "x = 1\n",
        "y = 35656222554887711\n",
        "z = -3255522\n",
        "\n",
        "print(type(x))\n",
        "print(type(y))\n",
        "print(type(z))"
      ],
      "metadata": {
        "id": "NyyJOhxwdjBt",
        "colab": {
          "base_uri": "https://localhost:8080/"
        },
        "outputId": "f4c65476-04d4-435a-87c0-e54286cbf58c"
      },
      "execution_count": null,
      "outputs": [
        {
          "output_type": "stream",
          "name": "stdout",
          "text": [
            "<class 'int'>\n",
            "<class 'int'>\n",
            "<class 'int'>\n"
          ]
        }
      ]
    },
    {
      "cell_type": "markdown",
      "source": [
        "##Float\n",
        "Float, or \"floating point number\" is a number, positive or negative, containing one or more decimals.\n",
        "\n",
        "##Float can also be scientific numbers with an \"e\" to indicate the power of 10."
      ],
      "metadata": {
        "id": "uLaDGqPzdnK7"
      }
    },
    {
      "cell_type": "code",
      "source": [
        "#Floats:\n",
        "\n",
        "x = 1.10\n",
        "y = 1.0\n",
        "z = -35.59\n",
        "\n",
        "print(type(x))\n",
        "print(type(y))\n",
        "print(type(z))\n",
        "\n",
        "#Special Floats:\n",
        "\n",
        "x = 35e3\n",
        "y = 12E4\n",
        "z = -87.7e100\n",
        "\n",
        "print(type(x))\n",
        "print(type(y))\n",
        "print(type(z))"
      ],
      "metadata": {
        "id": "Vl35SRAmdqgM",
        "colab": {
          "base_uri": "https://localhost:8080/"
        },
        "outputId": "5c536381-36fe-4420-d007-dc7f2fc99be8"
      },
      "execution_count": null,
      "outputs": [
        {
          "output_type": "stream",
          "name": "stdout",
          "text": [
            "<class 'float'>\n",
            "<class 'float'>\n",
            "<class 'float'>\n",
            "<class 'float'>\n",
            "<class 'float'>\n",
            "<class 'float'>\n"
          ]
        }
      ]
    },
    {
      "cell_type": "markdown",
      "source": [
        "##Complex\n",
        "Complex numbers are written with a \"j\" as the imaginary part:"
      ],
      "metadata": {
        "id": "Et_jFNi4d2zd"
      }
    },
    {
      "cell_type": "code",
      "source": [
        "#Complex:\n",
        "\n",
        "x = 3+5j\n",
        "y = 5j\n",
        "z = -5j\n",
        "\n",
        "print(type(x))\n",
        "print(type(y))\n",
        "print(type(z))"
      ],
      "metadata": {
        "id": "Q8O6eGZMd5g9",
        "colab": {
          "base_uri": "https://localhost:8080/"
        },
        "outputId": "fdbf2088-bd5e-47ad-e5ed-f8a974f75910"
      },
      "execution_count": null,
      "outputs": [
        {
          "output_type": "stream",
          "name": "stdout",
          "text": [
            "<class 'complex'>\n",
            "<class 'complex'>\n",
            "<class 'complex'>\n"
          ]
        }
      ]
    },
    {
      "cell_type": "markdown",
      "source": [
        "##Type Conversion\n",
        "You can convert from one type to another with the int(), float(), and complex() methods:"
      ],
      "metadata": {
        "id": "tApg47OCd8Ob"
      }
    },
    {
      "cell_type": "code",
      "source": [
        "#Convert from one type to another:\n",
        "\n",
        "x = 1    # int\n",
        "y = 2.8  # float\n",
        "z = 1j   # complex\n",
        "\n",
        "#convert from int to float:\n",
        "a = float(x)\n",
        "\n",
        "#convert from float to int:\n",
        "b = int(y)\n",
        "\n",
        "#convert from int to complex:\n",
        "c = complex(x)\n",
        "\n",
        "print(a)\n",
        "print(b)\n",
        "print(c)\n",
        "\n",
        "print(type(a))\n",
        "print(type(b))\n",
        "print(type(c))"
      ],
      "metadata": {
        "id": "YaL3Dz6KeAac",
        "colab": {
          "base_uri": "https://localhost:8080/"
        },
        "outputId": "001d2ce7-792d-41be-afeb-2fe2e9ac6e3b"
      },
      "execution_count": null,
      "outputs": [
        {
          "output_type": "stream",
          "name": "stdout",
          "text": [
            "1.0\n",
            "2\n",
            "(1+0j)\n",
            "<class 'float'>\n",
            "<class 'int'>\n",
            "<class 'complex'>\n"
          ]
        }
      ]
    },
    {
      "cell_type": "markdown",
      "source": [
        "##Random Number\n",
        "Python does not have a random() function to make a random number, but Python has a built-in module called random that can be used to make random numbers:"
      ],
      "metadata": {
        "id": "3vgvu88beC8X"
      }
    },
    {
      "cell_type": "code",
      "source": [
        "#Import the random module, and display a random number between 1 and 9:\n",
        "\n",
        "import random\n",
        "\n",
        "print(random.randrange(1, 10))"
      ],
      "metadata": {
        "id": "xT1MJerOeD6E",
        "colab": {
          "base_uri": "https://localhost:8080/"
        },
        "outputId": "02ff1c19-c968-40cb-e0a1-6fc49b20decd"
      },
      "execution_count": null,
      "outputs": [
        {
          "output_type": "stream",
          "name": "stdout",
          "text": [
            "3\n"
          ]
        }
      ]
    },
    {
      "cell_type": "markdown",
      "source": [
        "#Python Casting\n",
        "Specify a Variable Type\n",
        ">There may be times when you want to specify a type on to a variable. This can be done with casting. Python is an object-orientated language, and as such it uses classes to define data types, including its primitive types.\n",
        "\n",
        "Casting in python is therefore done using constructor functions:\n",
        "\n",
        ">int() - constructs an integer number from an integer literal, a float literal (by removing all decimals), or a string literal (providing the string represents a whole number)\n",
        "\n",
        ">float() - constructs a float number from an integer literal, a float literal or a string literal (providing the string represents a float or an integer)\n",
        "\n",
        ">str() - constructs a string from a wide variety of data types, including strings, integer literals and float literals"
      ],
      "metadata": {
        "id": "U97ZdDFrk49s"
      }
    },
    {
      "cell_type": "code",
      "source": [
        "#Integers:\n",
        "\n",
        "x = int(1)   # x will be 1\n",
        "y = int(2.8) # y will be 2\n",
        "z = int(\"3\") # z will be 3\n",
        "\n",
        "#Floats:\n",
        "\n",
        "x = float(1)     # x will be 1.0\n",
        "y = float(2.8)   # y will be 2.8\n",
        "z = float(\"3\")   # z will be 3.0\n",
        "w = float(\"4.2\") # w will be 4.2\n",
        "\n",
        "#Strings:\n",
        "\n",
        "x = str(\"s1\") # x will be 's1'\n",
        "y = str(2)    # y will be '2'\n",
        "z = str(3.0)  # z will be '3.0'"
      ],
      "metadata": {
        "id": "Ovu5NJMtk7Ys"
      },
      "execution_count": null,
      "outputs": []
    },
    {
      "cell_type": "markdown",
      "source": [
        "#Python Strings\n",
        "Strings\n",
        ">Strings in python are surrounded by either single quotation marks, or double quotation marks.\n",
        "\n",
        ">'hello' is the same as \"hello\".\n",
        "\n",
        "You can display a string literal with the print() function:"
      ],
      "metadata": {
        "id": "7Pf63KKZlFTW"
      }
    },
    {
      "cell_type": "code",
      "source": [
        "print(\"Hello\")\n",
        "print('Hello')"
      ],
      "metadata": {
        "colab": {
          "base_uri": "https://localhost:8080/"
        },
        "id": "gsKb7u1tlICt",
        "outputId": "8fe2ab03-9e54-4858-9acb-613b0bce55ec"
      },
      "execution_count": null,
      "outputs": [
        {
          "output_type": "stream",
          "name": "stdout",
          "text": [
            "Hello\n",
            "Hello\n"
          ]
        }
      ]
    },
    {
      "cell_type": "markdown",
      "source": [
        "#Assign String to a Variable\n",
        "Assigning a string to a variable is done with the variable name followed by an equal sign and the string:"
      ],
      "metadata": {
        "id": "rvKTAEATlJbU"
      }
    },
    {
      "cell_type": "code",
      "source": [
        "a = \"Hello\"\n",
        "print(a)"
      ],
      "metadata": {
        "colab": {
          "base_uri": "https://localhost:8080/"
        },
        "id": "zRGGu6mmlLw0",
        "outputId": "ce41da0e-08a3-48c5-b04e-f8ba6e1551b1"
      },
      "execution_count": null,
      "outputs": [
        {
          "output_type": "stream",
          "name": "stdout",
          "text": [
            "Hello\n"
          ]
        }
      ]
    },
    {
      "cell_type": "markdown",
      "source": [
        "#Multiline Strings\n",
        "You can assign a multiline string to a variable by using three quotes:"
      ],
      "metadata": {
        "id": "ldpHsAdVlOMk"
      }
    },
    {
      "cell_type": "code",
      "source": [
        "#We can use three double quotes:\n",
        "\n",
        "a = \"\"\"Lorem ipsum dolor sit amet,\n",
        "consectetur adipiscing elit,\n",
        "sed do eiusmod tempor incididunt\n",
        "ut labore et dolore magna aliqua.\"\"\"\n",
        "print(a)\n",
        "\n",
        "#Or three single quotes:\n",
        "\n",
        "\n",
        "a = '''Lorem ipsum dolor sit amet,\n",
        "consectetur adipiscing elit,\n",
        "sed do eiusmod tempor incididunt\n",
        "ut labore et dolore magna aliqua.'''\n",
        "print(a)"
      ],
      "metadata": {
        "colab": {
          "base_uri": "https://localhost:8080/"
        },
        "id": "uEvWR0VGlPsU",
        "outputId": "c9b0497f-ded1-4b33-d878-172273d29a88"
      },
      "execution_count": null,
      "outputs": [
        {
          "output_type": "stream",
          "name": "stdout",
          "text": [
            "Lorem ipsum dolor sit amet,\n",
            "consectetur adipiscing elit,\n",
            "sed do eiusmod tempor incididunt\n",
            "ut labore et dolore magna aliqua.\n",
            "Lorem ipsum dolor sit amet,\n",
            "consectetur adipiscing elit,\n",
            "sed do eiusmod tempor incididunt\n",
            "ut labore et dolore magna aliqua.\n"
          ]
        }
      ]
    },
    {
      "cell_type": "markdown",
      "source": [
        "#Strings are Arrays\n",
        ">Like many other popular programming languages, strings in Python are arrays of bytes representing unicode characters.\n",
        "\n",
        ">However, Python does not have a character data type, a single character is simply a string with a length of 1.\n",
        "\n",
        ">Square brackets can be used to access elements of the string."
      ],
      "metadata": {
        "id": "aN1FIFrDmzsd"
      }
    },
    {
      "cell_type": "code",
      "source": [
        "#Get the character at position 1 (remember that the first character has the position 0):\n",
        "\n",
        "a = \"Hello, World!\"\n",
        "print(a[1])"
      ],
      "metadata": {
        "colab": {
          "base_uri": "https://localhost:8080/"
        },
        "id": "DkaXyzLpm2qF",
        "outputId": "3e00cf32-1ba0-47d6-f50c-aa5d79997aca"
      },
      "execution_count": null,
      "outputs": [
        {
          "output_type": "stream",
          "name": "stdout",
          "text": [
            "e\n"
          ]
        }
      ]
    },
    {
      "cell_type": "markdown",
      "source": [
        "#Looping Through a String\n",
        "Since strings are arrays, we can loop through the characters in a string, with a for loop.\n"
      ],
      "metadata": {
        "id": "KReYE-aNm5vF"
      }
    },
    {
      "cell_type": "code",
      "source": [
        "#Loop through the letters in the word \"banana\":\n",
        "\n",
        "for x in \"banana\":\n",
        "  print(x)"
      ],
      "metadata": {
        "colab": {
          "base_uri": "https://localhost:8080/"
        },
        "id": "JOsDarcom-Ym",
        "outputId": "64715800-50c2-4c89-c948-e4f8ce6169c2"
      },
      "execution_count": null,
      "outputs": [
        {
          "output_type": "stream",
          "name": "stdout",
          "text": [
            "b\n",
            "a\n",
            "n\n",
            "a\n",
            "n\n",
            "a\n"
          ]
        }
      ]
    },
    {
      "cell_type": "markdown",
      "source": [
        "#String Length\n",
        "To get the length of a string, use the len() function."
      ],
      "metadata": {
        "id": "V-WPrfNknBkO"
      }
    },
    {
      "cell_type": "code",
      "source": [
        "#The len() function returns the length of a string:\n",
        "\n",
        "a = \"Hello, World!\"\n",
        "print(len(a))"
      ],
      "metadata": {
        "colab": {
          "base_uri": "https://localhost:8080/"
        },
        "id": "Sl5a-WDYnCq1",
        "outputId": "8577346a-0696-4b96-8aa9-4a8170f4d76e"
      },
      "execution_count": null,
      "outputs": [
        {
          "output_type": "stream",
          "name": "stdout",
          "text": [
            "13\n"
          ]
        }
      ]
    },
    {
      "cell_type": "markdown",
      "source": [
        "#Check String\n",
        "To check if a certain phrase or character is present in a string, we can use the keyword in."
      ],
      "metadata": {
        "id": "vwU6nLG2nGJl"
      }
    },
    {
      "cell_type": "code",
      "source": [
        "#Check if \"free\" is present in the following text:\n",
        "\n",
        "txt = \"The best things in life are free!\"\n",
        "print(\"free\" in txt)"
      ],
      "metadata": {
        "colab": {
          "base_uri": "https://localhost:8080/"
        },
        "id": "DQ-U3ZyGnJFl",
        "outputId": "e135403a-5ab6-4e12-d0ad-a799d1cd6e3e"
      },
      "execution_count": null,
      "outputs": [
        {
          "output_type": "stream",
          "name": "stdout",
          "text": [
            "True\n"
          ]
        }
      ]
    },
    {
      "cell_type": "code",
      "source": [
        "#Use it in an if statement:\n",
        "\n",
        "#Print only if \"free\" is present:\n",
        "\n",
        "txt = \"The best things in life are free!\"\n",
        "if \"free\" in txt:\n",
        "  print(\"Yes, 'free' is present.\")"
      ],
      "metadata": {
        "colab": {
          "base_uri": "https://localhost:8080/"
        },
        "id": "qW4QLKsUnOIO",
        "outputId": "6958885a-1154-4fad-ab39-a48276695e78"
      },
      "execution_count": null,
      "outputs": [
        {
          "output_type": "stream",
          "name": "stdout",
          "text": [
            "Yes, 'free' is present.\n"
          ]
        }
      ]
    },
    {
      "cell_type": "markdown",
      "source": [
        "#Check if NOT\n",
        "To check if a certain phrase or character is NOT present in a string, we can use the keyword not in."
      ],
      "metadata": {
        "id": "dhv5TJEanQuF"
      }
    },
    {
      "cell_type": "code",
      "source": [
        "#Check if \"expensive\" is NOT present in the following text:\n",
        "\n",
        "txt = \"The best things in life are free!\"\n",
        "print(\"expensive\" not in txt)"
      ],
      "metadata": {
        "colab": {
          "base_uri": "https://localhost:8080/"
        },
        "id": "mGMoCgtAnWXF",
        "outputId": "9713d821-87bf-492b-e34e-bb4cfb12b6b9"
      },
      "execution_count": null,
      "outputs": [
        {
          "output_type": "stream",
          "name": "stdout",
          "text": [
            "True\n"
          ]
        }
      ]
    },
    {
      "cell_type": "code",
      "source": [
        "#Use it in an if statement:\n",
        "\n",
        "\n",
        "#print only if \"expensive\" is NOT present:\n",
        "\n",
        "txt = \"The best things in life are free!\"\n",
        "if \"expensive\" not in txt:\n",
        "  print(\"No, 'expensive' is NOT present.\")"
      ],
      "metadata": {
        "colab": {
          "base_uri": "https://localhost:8080/"
        },
        "id": "1rcPxwHOnZ_X",
        "outputId": "d3695dc0-71c5-4996-abef-c740d57e8609"
      },
      "execution_count": null,
      "outputs": [
        {
          "output_type": "stream",
          "name": "stdout",
          "text": [
            "No, 'expensive' is NOT present.\n"
          ]
        }
      ]
    },
    {
      "cell_type": "markdown",
      "source": [
        "#Python - Slicing Strings"
      ],
      "metadata": {
        "id": "8kf50eornd7t"
      }
    },
    {
      "cell_type": "markdown",
      "source": [
        "##Slicing\n",
        "You can return a range of characters by using the slice syntax.\n",
        "\n",
        "Specify the start index and the end index, separated by a colon, to return a part of the string."
      ],
      "metadata": {
        "id": "Xf1-NdtYngmV"
      }
    },
    {
      "cell_type": "code",
      "source": [
        "#Get the characters from position 2 to position 5 (not included):\n",
        "\n",
        "b = \"Hello, World!\"\n",
        "print(b[2:5])"
      ],
      "metadata": {
        "colab": {
          "base_uri": "https://localhost:8080/"
        },
        "id": "gven2v9bni_F",
        "outputId": "a5e672a7-37b6-4278-e1b6-186a580438e4"
      },
      "execution_count": null,
      "outputs": [
        {
          "output_type": "stream",
          "name": "stdout",
          "text": [
            "llo\n"
          ]
        }
      ]
    },
    {
      "cell_type": "markdown",
      "source": [
        "The first character has index 0."
      ],
      "metadata": {
        "id": "qz0dOiJ9nlxd"
      }
    },
    {
      "cell_type": "markdown",
      "source": [
        "##Slice From the Start\n",
        "By leaving out the start index, the range will start at the first character:"
      ],
      "metadata": {
        "id": "xLOjfgwjnpRt"
      }
    },
    {
      "cell_type": "code",
      "source": [
        "#Get the characters from the start to position 5 (not included):\n",
        "\n",
        "b = \"Hello, World!\"\n",
        "print(b[:5])"
      ],
      "metadata": {
        "colab": {
          "base_uri": "https://localhost:8080/"
        },
        "id": "0jv1dcLBnow8",
        "outputId": "d3c0e53a-93ab-4ad2-8413-f2df0e0e7b89"
      },
      "execution_count": null,
      "outputs": [
        {
          "output_type": "stream",
          "name": "stdout",
          "text": [
            "Hello\n"
          ]
        }
      ]
    },
    {
      "cell_type": "markdown",
      "source": [
        "##Slice To the End\n",
        "By leaving out the end index, the range will go to the end:"
      ],
      "metadata": {
        "id": "Tgyh-TxSnvEU"
      }
    },
    {
      "cell_type": "code",
      "source": [
        "#Get the characters from position 2, and all the way to the end:\n",
        "\n",
        "b = \"Hello, World!\"\n",
        "print(b[2:])"
      ],
      "metadata": {
        "colab": {
          "base_uri": "https://localhost:8080/"
        },
        "id": "8kD-jyVfnw68",
        "outputId": "11035369-d082-4c7a-8ee6-eae742acc27f"
      },
      "execution_count": null,
      "outputs": [
        {
          "output_type": "stream",
          "name": "stdout",
          "text": [
            "llo, World!\n"
          ]
        }
      ]
    },
    {
      "cell_type": "markdown",
      "source": [
        "#Negative Indexing\n",
        "Use negative indexes to start the slice from the end of the string:"
      ],
      "metadata": {
        "id": "zkrqzG-znzJV"
      }
    },
    {
      "cell_type": "code",
      "source": [
        "\"\"\"Get the characters:\n",
        "\n",
        "From: \"o\" in \"World!\" (position -5)\n",
        "\n",
        "To, but not included: \"d\" in \"World!\" (position -2):\"\"\"\n",
        "\n",
        "b = \"Hello, World!\"\n",
        "print(b[-5:-2])"
      ],
      "metadata": {
        "colab": {
          "base_uri": "https://localhost:8080/"
        },
        "id": "h-csfJh9n1Es",
        "outputId": "063a7f7e-90e8-4058-a78a-8a0423d479e5"
      },
      "execution_count": null,
      "outputs": [
        {
          "output_type": "stream",
          "name": "stdout",
          "text": [
            "orl\n"
          ]
        }
      ]
    },
    {
      "cell_type": "markdown",
      "source": [
        "#Python - Modify Strings\n",
        "Python has a set of built-in methods that you can use on strings."
      ],
      "metadata": {
        "id": "5krKazrin8_1"
      }
    },
    {
      "cell_type": "markdown",
      "source": [
        "##Upper Case"
      ],
      "metadata": {
        "id": "wc63WY1toCgc"
      }
    },
    {
      "cell_type": "code",
      "source": [
        "#The upper() method returns the string in upper case:\n",
        "\n",
        "a = \"Hello, World!\"\n",
        "print(a.upper())"
      ],
      "metadata": {
        "colab": {
          "base_uri": "https://localhost:8080/"
        },
        "id": "0R5j_ZwLoEiF",
        "outputId": "f61b1f4e-bfe6-4711-89d7-9da438aa2197"
      },
      "execution_count": null,
      "outputs": [
        {
          "output_type": "stream",
          "name": "stdout",
          "text": [
            "HELLO, WORLD!\n"
          ]
        }
      ]
    },
    {
      "cell_type": "markdown",
      "source": [
        "##Lower Case"
      ],
      "metadata": {
        "id": "8z84-D0ooGnX"
      }
    },
    {
      "cell_type": "code",
      "source": [
        "#The lower() method returns the string in lower case:\n",
        "\n",
        "a = \"Hello, World!\"\n",
        "print(a.lower())"
      ],
      "metadata": {
        "colab": {
          "base_uri": "https://localhost:8080/"
        },
        "id": "RWCAwnZuoIrX",
        "outputId": "5a8f46d6-101b-45b3-b590-eb8b9ee36456"
      },
      "execution_count": null,
      "outputs": [
        {
          "output_type": "stream",
          "name": "stdout",
          "text": [
            "hello, world!\n"
          ]
        }
      ]
    },
    {
      "cell_type": "markdown",
      "source": [
        "##Remove Whitespace\n",
        "Whitespace is the space before and/or after the actual text, and very often you want to remove this space."
      ],
      "metadata": {
        "id": "DFcHEngLoL1_"
      }
    },
    {
      "cell_type": "code",
      "source": [
        "#The strip() method removes any whitespace from the beginning or the end:\n",
        "\n",
        "a = \" Hello, World! \"\n",
        "print(a.strip()) # returns \"Hello, World!\""
      ],
      "metadata": {
        "colab": {
          "base_uri": "https://localhost:8080/"
        },
        "id": "_sxMdSWQoN5w",
        "outputId": "d0b6e798-4615-45e1-c021-cd1279f8851d"
      },
      "execution_count": null,
      "outputs": [
        {
          "output_type": "stream",
          "name": "stdout",
          "text": [
            "Hello, World!\n"
          ]
        }
      ]
    },
    {
      "cell_type": "markdown",
      "source": [
        "##Replace String"
      ],
      "metadata": {
        "id": "cjV_7B6PoRNV"
      }
    },
    {
      "cell_type": "code",
      "source": [
        "#The replace() method replaces a string with another string:\n",
        "\n",
        "a = \"Hello, World!\"\n",
        "print(a.replace(\"H\", \"J\"))"
      ],
      "metadata": {
        "colab": {
          "base_uri": "https://localhost:8080/"
        },
        "id": "UlCWAaZroUBF",
        "outputId": "250edfa6-c7b8-4c1a-907c-fd11aa8727f7"
      },
      "execution_count": null,
      "outputs": [
        {
          "output_type": "stream",
          "name": "stdout",
          "text": [
            "Jello, World!\n"
          ]
        }
      ]
    },
    {
      "cell_type": "markdown",
      "source": [
        "##Split String\n",
        "The split() method returns a list where the text between the specified separator becomes the list items."
      ],
      "metadata": {
        "id": "MQA_DdH_oWR9"
      }
    },
    {
      "cell_type": "code",
      "source": [
        "#The split() method splits the string into substrings if it finds instances of the separator:\n",
        "\n",
        "a = \"Hello, World!\"\n",
        "print(a.split(\",\")) # returns ['Hello', ' World!']"
      ],
      "metadata": {
        "colab": {
          "base_uri": "https://localhost:8080/"
        },
        "id": "E08uSkZ6oY13",
        "outputId": "35d975b8-a967-4cdf-f533-335e86e0672e"
      },
      "execution_count": null,
      "outputs": [
        {
          "output_type": "stream",
          "name": "stdout",
          "text": [
            "['Hello', ' World!']\n"
          ]
        }
      ]
    },
    {
      "cell_type": "markdown",
      "source": [
        "##More Methods for String [ Reference Link ] - https://www.w3schools.com/python/python_ref_string.asp"
      ],
      "metadata": {
        "id": "bApBkmrYoijm"
      }
    },
    {
      "cell_type": "markdown",
      "source": [
        "#Python - String Concatenation"
      ],
      "metadata": {
        "id": "MoIxnwBroyZF"
      }
    },
    {
      "cell_type": "markdown",
      "source": [
        "##String Concatenation\n",
        "To concatenate, or combine, two strings you can use the + operator."
      ],
      "metadata": {
        "id": "8NYErbNXo0UG"
      }
    },
    {
      "cell_type": "code",
      "source": [
        "#Merge variable a with variable b into variable c:\n",
        "\n",
        "a = \"Hello\"\n",
        "b = \"World\"\n",
        "c = a + b\n",
        "print(c)\n",
        "\n",
        "#To add a space between them, add a \" \":\n",
        "\n",
        "a = \"Hello\"\n",
        "b = \"World\"\n",
        "c = a + \" \" + b\n",
        "print(c)"
      ],
      "metadata": {
        "colab": {
          "base_uri": "https://localhost:8080/"
        },
        "id": "af9FlIoeo2bW",
        "outputId": "5db2f40d-f6a5-4d2a-c1bc-b010de4e61eb"
      },
      "execution_count": null,
      "outputs": [
        {
          "output_type": "stream",
          "name": "stdout",
          "text": [
            "HelloWorld\n",
            "Hello World\n"
          ]
        }
      ]
    },
    {
      "cell_type": "markdown",
      "source": [
        "#Python - Format - Strings"
      ],
      "metadata": {
        "id": "7hZmL2MEo7W1"
      }
    },
    {
      "cell_type": "markdown",
      "source": [
        "##String Format\n",
        "As we learned in the Python Variables chapter, we cannot combine strings and numbers like this:\n",
        "\n",
        "The format() method allows you to format selected parts of a string.\n",
        "\n",
        "Sometimes there are parts of a text that you do not control, maybe they come from a database, or user input?\n",
        "\n",
        "To control such values, add placeholders (curly brackets {}) in the text, and run the values through the format() method:"
      ],
      "metadata": {
        "id": "cdaFBrtpo89d"
      }
    },
    {
      "cell_type": "code",
      "source": [
        "age = 36\n",
        "txt = \"My name is John, I am \" + age\n",
        "print(txt)"
      ],
      "metadata": {
        "colab": {
          "base_uri": "https://localhost:8080/",
          "height": 210
        },
        "id": "lB7VePMoo_CW",
        "outputId": "9f106347-e2a9-46a3-a35d-3bcc65e4a5b6"
      },
      "execution_count": null,
      "outputs": [
        {
          "output_type": "error",
          "ename": "TypeError",
          "evalue": "ignored",
          "traceback": [
            "\u001b[0;31m---------------------------------------------------------------------------\u001b[0m",
            "\u001b[0;31mTypeError\u001b[0m                                 Traceback (most recent call last)",
            "\u001b[0;32m<ipython-input-127-4d1b227cff41>\u001b[0m in \u001b[0;36m<cell line: 2>\u001b[0;34m()\u001b[0m\n\u001b[1;32m      1\u001b[0m \u001b[0mage\u001b[0m \u001b[0;34m=\u001b[0m \u001b[0;36m36\u001b[0m\u001b[0;34m\u001b[0m\u001b[0;34m\u001b[0m\u001b[0m\n\u001b[0;32m----> 2\u001b[0;31m \u001b[0mtxt\u001b[0m \u001b[0;34m=\u001b[0m \u001b[0;34m\"My name is John, I am \"\u001b[0m \u001b[0;34m+\u001b[0m \u001b[0mage\u001b[0m\u001b[0;34m\u001b[0m\u001b[0;34m\u001b[0m\u001b[0m\n\u001b[0m\u001b[1;32m      3\u001b[0m \u001b[0mprint\u001b[0m\u001b[0;34m(\u001b[0m\u001b[0mtxt\u001b[0m\u001b[0;34m)\u001b[0m\u001b[0;34m\u001b[0m\u001b[0;34m\u001b[0m\u001b[0m\n",
            "\u001b[0;31mTypeError\u001b[0m: can only concatenate str (not \"int\") to str"
          ]
        }
      ]
    },
    {
      "cell_type": "markdown",
      "source": [
        "But we can combine strings and numbers by using the format() method!\n",
        "\n",
        "The format() method takes the passed arguments, formats them, and places them in the string where the placeholders {} are:"
      ],
      "metadata": {
        "id": "jteq93lypAem"
      }
    },
    {
      "cell_type": "code",
      "source": [
        "#Use the format() method to insert numbers into strings:\n",
        "\n",
        "age = 36\n",
        "txt = \"My name is John, and I am {}\"\n",
        "print(txt.format(age))"
      ],
      "metadata": {
        "colab": {
          "base_uri": "https://localhost:8080/"
        },
        "id": "xQ1nZUT7pCen",
        "outputId": "96df9078-26ab-4e4d-8ad8-92b9de11780d"
      },
      "execution_count": null,
      "outputs": [
        {
          "output_type": "stream",
          "name": "stdout",
          "text": [
            "My name is John, and I am 36\n"
          ]
        }
      ]
    },
    {
      "cell_type": "markdown",
      "source": [
        "The format() method takes unlimited number of arguments, and are placed into the respective placeholders:"
      ],
      "metadata": {
        "id": "Fv2jBQtfpE8e"
      }
    },
    {
      "cell_type": "code",
      "source": [
        "quantity = 3\n",
        "itemno = 567\n",
        "price = 49.95\n",
        "myorder = \"I want {} pieces of item {} for {} dollars.\"\n",
        "print(myorder.format(quantity, itemno, price))\n",
        "\n",
        "#You can use index numbers {0} to be sure the arguments are placed in the correct placeholders:\n",
        "\n",
        "\n",
        "quantity = 3\n",
        "itemno = 567\n",
        "price = 49.95\n",
        "myorder = \"I want to pay {2} dollars for {0} pieces of item {1}.\"\n",
        "print(myorder.format(quantity, itemno, price))"
      ],
      "metadata": {
        "colab": {
          "base_uri": "https://localhost:8080/"
        },
        "id": "yuPOZGQbpGP-",
        "outputId": "dc657405-30b1-4623-805b-77bcc0bd32ea"
      },
      "execution_count": null,
      "outputs": [
        {
          "output_type": "stream",
          "name": "stdout",
          "text": [
            "I want 3 pieces of item 567 for 49.95 dollars.\n",
            "I want to pay 49.95 dollars for 3 pieces of item 567.\n"
          ]
        }
      ]
    },
    {
      "cell_type": "markdown",
      "source": [
        "##Multiple Values\n",
        "If you want to use more values, just add more values to the format() method:"
      ],
      "metadata": {
        "id": "LzdpdkAnpYxO"
      }
    },
    {
      "cell_type": "code",
      "source": [
        "quantity = 3\n",
        "itemno = 567\n",
        "price = 49.95\n",
        "myorder = \"I want to pay {2} dollars for {0} pieces of item {1}.\"\n",
        "\n",
        "print(txt.format(price, itemno, quantity))\n",
        "\n",
        "#And add more placeholders:\n",
        "\n",
        "quantity = 3\n",
        "itemno = 567\n",
        "price = 49\n",
        "myorder = \"I want {} pieces of item number {} for {:.2f} dollars.\"\n",
        "print(myorder.format(quantity, itemno, price))"
      ],
      "metadata": {
        "colab": {
          "base_uri": "https://localhost:8080/"
        },
        "id": "8aPvCQm9pbge",
        "outputId": "b7e85b18-d032-4088-bf79-792c76a071e4"
      },
      "execution_count": null,
      "outputs": [
        {
          "output_type": "stream",
          "name": "stdout",
          "text": [
            "My name is John, and I am 49.95\n",
            "I want 3 pieces of item number 567 for 49.00 dollars.\n"
          ]
        }
      ]
    },
    {
      "cell_type": "markdown",
      "source": [
        "##Index Numbers\n",
        "You can use index numbers (a number inside the curly brackets {0}) to be sure the values are placed in the correct placeholders:"
      ],
      "metadata": {
        "id": "4juNvsCxpgo4"
      }
    },
    {
      "cell_type": "code",
      "source": [
        "quantity = 3\n",
        "itemno = 567\n",
        "price = 49\n",
        "myorder = \"I want {0} pieces of item number {1} for {2:.2f} dollars.\"\n",
        "print(myorder.format(quantity, itemno, price))"
      ],
      "metadata": {
        "colab": {
          "base_uri": "https://localhost:8080/"
        },
        "id": "7c0UlxS7pjiA",
        "outputId": "fe512873-a1c7-4f35-f59f-f8a0e090fe72"
      },
      "execution_count": null,
      "outputs": [
        {
          "output_type": "stream",
          "name": "stdout",
          "text": [
            "I want 3 pieces of item number 567 for 49.00 dollars.\n"
          ]
        }
      ]
    },
    {
      "cell_type": "code",
      "source": [
        "#Also, if you want to refer to the same value more than once, use the index number:\n",
        "\n",
        "age = 36\n",
        "name = \"John\"\n",
        "txt = \"His name is {1}. {1} is {0} years old.\"\n",
        "print(txt.format(age, name))"
      ],
      "metadata": {
        "colab": {
          "base_uri": "https://localhost:8080/"
        },
        "id": "K4ApWeYhpoSv",
        "outputId": "8a9ca34e-6947-4b38-c445-31e1d05c8fe6"
      },
      "execution_count": null,
      "outputs": [
        {
          "output_type": "stream",
          "name": "stdout",
          "text": [
            "His name is John. John is 36 years old.\n"
          ]
        }
      ]
    },
    {
      "cell_type": "markdown",
      "source": [
        "##Named Indexes\n",
        "You can also use named indexes by entering a name inside the curly brackets {carname}, but then you must use names when you pass the parameter values txt.format(carname = \"Ford\"):"
      ],
      "metadata": {
        "id": "L0EhAs9IptxP"
      }
    },
    {
      "cell_type": "code",
      "source": [
        "myorder = \"I have a {carname}, it is a {model}.\"\n",
        "print(myorder.format(carname = \"Ford\", model = \"Mustang\"))"
      ],
      "metadata": {
        "colab": {
          "base_uri": "https://localhost:8080/"
        },
        "id": "32NTbxiypv0f",
        "outputId": "11bb3388-a7ec-463c-8a7d-9f631ebe5460"
      },
      "execution_count": null,
      "outputs": [
        {
          "output_type": "stream",
          "name": "stdout",
          "text": [
            "I have a Ford, it is a Mustang.\n"
          ]
        }
      ]
    },
    {
      "cell_type": "markdown",
      "source": [
        "#Python - Escape Characters"
      ],
      "metadata": {
        "id": "YDbcIeI2pzJZ"
      }
    },
    {
      "cell_type": "markdown",
      "source": [
        "##Escape Character\n",
        "To insert characters that are illegal in a string, use an escape character.\n",
        "\n",
        "An escape character is a backslash \\ followed by the character you want to insert.\n",
        "\n",
        "An example of an illegal character is a double quote inside a string that is surrounded by double quotes:"
      ],
      "metadata": {
        "id": "Qy6Q1CGcp1yY"
      }
    },
    {
      "cell_type": "code",
      "source": [
        "#You will get an error if you use double quotes inside a string that is surrounded by double quotes:\n",
        "\n",
        "txt = \"We are the so-called \"Vikings\" from the north.\"\n",
        "\n",
        "#To fix this problem, use the escape character \\\":\n",
        "\n",
        "txt = \"We are the so-called \\\"Vikings\\\" from the north.\""
      ],
      "metadata": {
        "colab": {
          "base_uri": "https://localhost:8080/",
          "height": 140
        },
        "id": "FdVhgdMwp6cH",
        "outputId": "49a9a9e3-8e8a-40ce-ed02-ab00a748ae5f"
      },
      "execution_count": null,
      "outputs": [
        {
          "output_type": "error",
          "ename": "SyntaxError",
          "evalue": "ignored",
          "traceback": [
            "\u001b[0;36m  File \u001b[0;32m\"<ipython-input-139-54a53a1073ed>\"\u001b[0;36m, line \u001b[0;32m3\u001b[0m\n\u001b[0;31m    txt = \"We are the so-called \"Vikings\" from the north.\"\u001b[0m\n\u001b[0m                                 ^\u001b[0m\n\u001b[0;31mSyntaxError\u001b[0m\u001b[0;31m:\u001b[0m invalid syntax\n"
          ]
        }
      ]
    },
    {
      "cell_type": "markdown",
      "source": [
        "##Escape Characters\n",
        "Other escape characters used in Python:\n",
        "\n",
        "##Code - \tResult\n",
        "\n",
        ">\\\\'\t- Single Quote\n",
        "\\\\\\\t- Backslash\n",
        "\\n\t- New Line\n",
        "\\r\t- Carriage Return\n",
        "\\t\t- Tab\n",
        "\\b\t- Backspace\n",
        "\\f\t- Form Feed\n",
        "\\ooo\t- Octal value\n",
        "\\xhh\t- Hex value"
      ],
      "metadata": {
        "id": "tEJy72vxqBov"
      }
    },
    {
      "cell_type": "markdown",
      "source": [
        "#String Methods\n",
        "Python has a set of built-in methods that you can use on strings.\n",
        "\n",
        "##Note:\n",
        "All string methods return new values. They do not change the original string.\n",
        "\n",
        "##Method\tDescription\n",
        "capitalize(  ) ------ Converts the first character to upper case\n",
        "\n",
        "casefold(  ) ------ Converts string into lower case\n",
        "\n",
        "center(  ) ------   Returns a centered string\n",
        "\n",
        "count( ) ------\tReturns the number of times a specified value occurs in a string\n",
        "\n",
        "encode( ) ------\tReturns an encoded version of the string\n",
        "\n",
        "endswith( ) ------\tReturns true if the string ends with the specified value\n",
        "\n",
        "expandtabs( ) ------\tSets the tab size of the string\n",
        "\n",
        "find( ) ------\tSearches the string for a specified value and returns the position of where it was found\n",
        "\n",
        "format( ) ------\tFormats specified values in a string\n",
        "\n",
        "format_map( ) ------\tFormats specified values in a string\n",
        "\n",
        "index( ) ------\tSearches the string for a specified value and returns the position of where it was found\n",
        "\n",
        "isalnum( ) ------\tReturns True if all characters in the string are alphanumeric\n",
        "\n",
        "isalpha( ) ------\tReturns True if all characters in the string are in the alphabet\n",
        "\n",
        "isascii( ) ------\tReturns True if all characters in the string are ascii characters\n",
        "\n",
        "isdecimal( ) ------\tReturns True if all characters in the string are decimals\n",
        "\n",
        "isdigit( ) ------\tReturns True if all characters in the string are digits\n",
        "\n",
        "isidentifier( ) ------\tReturns True if the string is an identifier\n",
        "\n",
        "islower( ) ------\tReturns True if all characters in the string are lower case\n",
        "\n",
        "isnumeric( ) ------\tReturns True if all characters in the string are numeric\n",
        "\n",
        "isprintable( ) ------\tReturns True if all characters in the string are printable\n",
        "\n",
        "isspace( ) ------\tReturns True if all characters in the string are whitespaces\n",
        "\n",
        "istitle( ) ------\tReturns True if the string follows the rules of a title\n",
        "\n",
        "isupper( ) ------\tReturns True if all characters in the string are upper case\n",
        "\n",
        "join( ) ------\tJoins the elements of an iterable to the end of the string\n",
        "\n",
        "ljust( ) ------\tReturns a left justified version of the string\n",
        "\n",
        "lower( ) ------\tConverts a string into lower case\n",
        "\n",
        "lstrip( ) ------\tReturns a left trim version of the string\n",
        "\n",
        "maketrans( ) ------\tReturns a translation table to be used in translations\n",
        "\n",
        "partition( ) ------\tReturns a tuple where the string is parted into three parts\n",
        "\n",
        "replace( ) ------\tReturns a string where a specified value is replaced with a specified value\n",
        "\n",
        "rfind( ) ------\tSearches the string for a specified value and returns the last position of where it was found\n",
        "\n",
        "rindex( ) ------\tSearches the string for a specified value and returns the last position of where it was found\n",
        "\n",
        "rjust( ) ------\tReturns a right justified version of the string\n",
        "\n",
        "rpartition( ) ------\tReturns a tuple where the string is parted into three parts\n",
        "\n",
        "rsplit( ) ------\tSplits the string at the specified separator, and returns a list\n",
        "\n",
        "rstrip( ) ------\tReturns a right trim version of the string\n",
        "\n",
        "split( ) ------\tSplits the string at the specified separator, and returns a list\n",
        "\n",
        "splitlines( ) ------\tSplits the string at line breaks and returns a list\n",
        "\n",
        "startswith( ) ------\tReturns true if the string starts with the specified value\n",
        "\n",
        "strip( ) ------\tReturns a trimmed version of the string\n",
        "\n",
        "swapcase( ) ------\tSwaps cases, lower case becomes upper case and vice versa\n",
        "\n",
        "title( ) ------\tConverts the first character of each word to upper case\n",
        "\n",
        "translate( ) ------\tReturns a translated string\n",
        "\n",
        "upper( ) ------\tConverts a string into upper case\n",
        "\n",
        "zfill( ) ------\tFills the string with a specified number of 0 values at the beginning\n"
      ],
      "metadata": {
        "id": "kowen3cMqKH9"
      }
    },
    {
      "cell_type": "markdown",
      "source": [
        "#Python Booleans\n",
        "\n",
        "> Booleans represent one of two values: True or False."
      ],
      "metadata": {
        "id": "vPFESdv9qTnN"
      }
    },
    {
      "cell_type": "markdown",
      "source": [
        "##Boolean Values\n",
        ">In programming you often need to know if an expression is True or False.\n",
        "\n",
        ">You can evaluate any expression in Python, and get one of two answers, True or False.\n",
        "\n",
        ">When you compare two values, the expression is evaluated and Python returns the Boolean answer:"
      ],
      "metadata": {
        "id": "FDNKJH2BqZcy"
      }
    },
    {
      "cell_type": "code",
      "source": [
        "print(10 > 9)\n",
        "print(10 == 9)\n",
        "print(10 < 9)"
      ],
      "metadata": {
        "colab": {
          "base_uri": "https://localhost:8080/"
        },
        "id": "qOEyUiFiqbuy",
        "outputId": "ac8ebb9f-3d10-4926-ab7f-f1fc0911767e"
      },
      "execution_count": null,
      "outputs": [
        {
          "output_type": "stream",
          "name": "stdout",
          "text": [
            "True\n",
            "False\n",
            "False\n"
          ]
        }
      ]
    },
    {
      "cell_type": "markdown",
      "source": [
        "When you run a condition in an if statement, Python returns True or False:"
      ],
      "metadata": {
        "id": "W8fAlotPqdCy"
      }
    },
    {
      "cell_type": "code",
      "source": [
        "#Print a message based on whether the condition is True or False:\n",
        "\n",
        "a = 200\n",
        "b = 33\n",
        "\n",
        "if b > a:\n",
        "  print(\"b is greater than a\")\n",
        "else:\n",
        "  print(\"b is not greater than a\")"
      ],
      "metadata": {
        "colab": {
          "base_uri": "https://localhost:8080/"
        },
        "id": "n6d2b7CBqekD",
        "outputId": "df12a5dd-9bc7-41d4-8aba-be7955303df4"
      },
      "execution_count": null,
      "outputs": [
        {
          "output_type": "stream",
          "name": "stdout",
          "text": [
            "b is not greater than a\n"
          ]
        }
      ]
    },
    {
      "cell_type": "markdown",
      "source": [
        "##Evaluate Values and Variables\n",
        "The bool() function allows you to evaluate any value, and give you True or False in return,"
      ],
      "metadata": {
        "id": "cjUXKEmbqhSz"
      }
    },
    {
      "cell_type": "code",
      "source": [
        "#Evaluate a string and a number:\n",
        "\n",
        "print(bool(\"Hello\"))\n",
        "print(bool(15))\n",
        "\n",
        "#Evaluate two variables:\n",
        "\n",
        "x = \"Hello\"\n",
        "y = 15\n",
        "\n",
        "print(bool(x))\n",
        "print(bool(y))"
      ],
      "metadata": {
        "colab": {
          "base_uri": "https://localhost:8080/"
        },
        "id": "hdYLS0L0qk8C",
        "outputId": "11c00ef3-8bbb-4deb-d92a-953449e92b4a"
      },
      "execution_count": null,
      "outputs": [
        {
          "output_type": "stream",
          "name": "stdout",
          "text": [
            "True\n",
            "True\n",
            "True\n",
            "True\n"
          ]
        }
      ]
    },
    {
      "cell_type": "markdown",
      "source": [
        "#Most Values are True\n",
        ">Almost any value is evaluated to True if it has some sort of content.\n",
        "\n",
        ">Any string is True, except empty strings.\n",
        "\n",
        ">Any number is True, except 0.\n",
        "\n",
        ">Any list, tuple, set, and dictionary are True, except empty ones."
      ],
      "metadata": {
        "id": "lTUFjq_bqq2g"
      }
    },
    {
      "cell_type": "code",
      "source": [
        "#The following will return True:\n",
        "\n",
        "bool(\"abc\")\n",
        "bool(123)\n",
        "bool([\"apple\", \"cherry\", \"banana\"])"
      ],
      "metadata": {
        "colab": {
          "base_uri": "https://localhost:8080/"
        },
        "id": "7VJuqMJ2qtjv",
        "outputId": "7514d6ee-39cc-41f8-dfd1-6c34fb971bd7"
      },
      "execution_count": null,
      "outputs": [
        {
          "output_type": "execute_result",
          "data": {
            "text/plain": [
              "True"
            ]
          },
          "metadata": {},
          "execution_count": 143
        }
      ]
    },
    {
      "cell_type": "markdown",
      "source": [
        "##Some Values are False\n",
        "In fact, there are not many values that evaluate to False, except empty values, such as (), [], {}, \"\", the number 0, and the value None. And of course the value False evaluates to False."
      ],
      "metadata": {
        "id": "gaKrrg3CqvWY"
      }
    },
    {
      "cell_type": "code",
      "source": [
        "#The following will return False:\n",
        "\n",
        "bool(False)\n",
        "bool(None)\n",
        "bool(0)\n",
        "bool(\"\")\n",
        "bool(())\n",
        "bool([])\n",
        "bool({})"
      ],
      "metadata": {
        "colab": {
          "base_uri": "https://localhost:8080/"
        },
        "id": "7ZXidgtLqx0w",
        "outputId": "f49fed78-aac3-4985-b91e-7d501c67d0aa"
      },
      "execution_count": null,
      "outputs": [
        {
          "output_type": "execute_result",
          "data": {
            "text/plain": [
              "False"
            ]
          },
          "metadata": {},
          "execution_count": 144
        }
      ]
    },
    {
      "cell_type": "markdown",
      "source": [
        "One more value, or object in this case, evaluates to False, and that is if you have an object that is made from a class with a __len__ function that returns 0 or False:"
      ],
      "metadata": {
        "id": "-Hev-jokq0IZ"
      }
    },
    {
      "cell_type": "code",
      "source": [
        "class myclass():\n",
        "  def __len__(self):\n",
        "    return 0\n",
        "\n",
        "myobj = myclass()\n",
        "print(bool(myobj))"
      ],
      "metadata": {
        "colab": {
          "base_uri": "https://localhost:8080/"
        },
        "id": "eGBGyBJUq1V4",
        "outputId": "68306870-46cb-48a5-9d68-1f92cf4ade15"
      },
      "execution_count": null,
      "outputs": [
        {
          "output_type": "stream",
          "name": "stdout",
          "text": [
            "False\n"
          ]
        }
      ]
    },
    {
      "cell_type": "markdown",
      "source": [
        "##Functions can Return a Boolean\n",
        "\n",
        "You can create functions that returns a Boolean Value:"
      ],
      "metadata": {
        "id": "H9Zq4dtzq3Dq"
      }
    },
    {
      "cell_type": "code",
      "source": [
        "def myFunction() :\n",
        "  return True\n",
        "\n",
        "print(myFunction())\n",
        "\n",
        "#Print \"YES!\" if the function returns True, otherwise print \"NO!\":\n",
        "\n",
        "def myFunction() :\n",
        "  return True\n",
        "\n",
        "if myFunction():\n",
        "  print(\"YES!\")\n",
        "else:\n",
        "  print(\"NO!\")"
      ],
      "metadata": {
        "colab": {
          "base_uri": "https://localhost:8080/"
        },
        "id": "bqD2DH6yq7bI",
        "outputId": "71f6e502-a31d-4e40-99f3-a2fdb21309fb"
      },
      "execution_count": null,
      "outputs": [
        {
          "output_type": "stream",
          "name": "stdout",
          "text": [
            "True\n",
            "YES!\n"
          ]
        }
      ]
    },
    {
      "cell_type": "markdown",
      "source": [
        "Python also has many built-in functions that return a boolean value, like the isinstance() function, which can be used to determine if an object is of a certain data type:"
      ],
      "metadata": {
        "id": "xg_hUFeArCZw"
      }
    },
    {
      "cell_type": "code",
      "source": [
        "#Check if an object is an integer or not:\n",
        "\n",
        "x = 200\n",
        "print(isinstance(x, int))"
      ],
      "metadata": {
        "colab": {
          "base_uri": "https://localhost:8080/"
        },
        "id": "vxS88d_YrDoY",
        "outputId": "b23b6e8a-f72f-44a4-a685-0394d0834593"
      },
      "execution_count": null,
      "outputs": [
        {
          "output_type": "stream",
          "name": "stdout",
          "text": [
            "True\n"
          ]
        }
      ]
    }
  ]
}